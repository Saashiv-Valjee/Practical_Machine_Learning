{
 "cells": [
  {
   "cell_type": "markdown",
   "id": "103e96f3",
   "metadata": {},
   "source": [
    "# Python II #\n",
    "\n",
    "In this notebook we'll revise random numbers, numpy and more matplotlib.  Your work will largely be assessed by the plots you make in the two projects, so make sure you are comfortable making plots in python as soon as possible!"
   ]
  },
  {
   "cell_type": "markdown",
   "id": "cc886d1c",
   "metadata": {},
   "source": [
    "# Random Numbers #\n",
    "\n",
    "Psuedorandom numbers are used widely throughout machine learning and computational physics.  Let's look at the documentation from a couple of important functions:"
   ]
  },
  {
   "cell_type": "code",
   "execution_count": 40,
   "id": "3131b6ee",
   "metadata": {},
   "outputs": [],
   "source": [
    "import numpy as np\n",
    "import numpy.random as rnd\n",
    "import matplotlib.pyplot as plt"
   ]
  },
  {
   "cell_type": "code",
   "execution_count": 41,
   "id": "7aca9a52",
   "metadata": {},
   "outputs": [
    {
     "name": "stdout",
     "output_type": "stream",
     "text": [
      "\u001b[1;31mDocstring:\u001b[0m\n",
      "random(size=None)\n",
      "\n",
      "Return random floats in the half-open interval [0.0, 1.0). Alias for\n",
      "`random_sample` to ease forward-porting to the new random API.\n",
      "\u001b[1;31mType:\u001b[0m      builtin_function_or_method"
     ]
    }
   ],
   "source": [
    "?rnd.random"
   ]
  },
  {
   "cell_type": "code",
   "execution_count": 42,
   "id": "24c902d9",
   "metadata": {},
   "outputs": [
    {
     "name": "stdout",
     "output_type": "stream",
     "text": [
      "\u001b[1;31mDocstring:\u001b[0m\n",
      "seed(seed=None)\n",
      "\n",
      "Reseed the singleton RandomState instance.\n",
      "\n",
      "Notes\n",
      "-----\n",
      "This is a convenience, legacy function that exists to support\n",
      "older code that uses the singleton RandomState. Best practice\n",
      "is to use a dedicated ``Generator`` instance rather than\n",
      "the random variate generation methods exposed directly in\n",
      "the random module.\n",
      "\n",
      "See Also\n",
      "--------\n",
      "numpy.random.Generator\n",
      "\u001b[1;31mType:\u001b[0m      builtin_function_or_method"
     ]
    }
   ],
   "source": [
    "?rnd.seed"
   ]
  },
  {
   "cell_type": "markdown",
   "id": "db48aa98",
   "metadata": {},
   "source": [
    "**Using the documentation, and try creating a few arrays of random numbers by exploring these functions below.\n",
    "What happens if you call random:**\n",
    "\n",
    "- with no argument: random()?\n",
    "- with an integer argument: random(3)?\n",
    "- with a tuple argument: random((4, 2))?\n",
    "\n",
    "What happens if you use the same seed? What happens if you change it?\n"
   ]
  },
  {
   "cell_type": "code",
   "execution_count": 43,
   "id": "38dcb6c7",
   "metadata": {},
   "outputs": [
    {
     "name": "stdout",
     "output_type": "stream",
     "text": [
      "0.15921673576384\n",
      "[0.61475106 0.69595287 0.16152925]\n",
      "[[0.57198919 0.44807745]\n",
      " [0.61624294 0.87914719]\n",
      " [0.17360455 0.01935108]\n",
      " [0.67345075 0.410558  ]]\n"
     ]
    }
   ],
   "source": [
    "print(rnd.random())\n",
    "print(rnd.random(3))\n",
    "print(rnd.random((4,2)))"
   ]
  },
  {
   "cell_type": "markdown",
   "id": "f77697ce",
   "metadata": {},
   "source": [
    "The output of random() gives values between 0 and 1.  With some simple manipulation this can be mapped into other ranges of values.  Read the rnd.random() docstring to see how to map the output of this function to an arbitrary interval $[a,b)$. **Check the rnd.random() docstring and print 20 random numbers in the interval $[-10, 10)$**.\n"
   ]
  },
  {
   "cell_type": "code",
   "execution_count": 77,
   "id": "778fdf2f",
   "metadata": {},
   "outputs": [
    {
     "data": {
      "text/plain": [
       "array([0.97355703, 0.95743029, 0.48923696, 0.11361956, 0.3293881 ])"
      ]
     },
     "execution_count": 77,
     "metadata": {},
     "output_type": "execute_result"
    }
   ],
   "source": [
    "rnd."
   ]
  },
  {
   "cell_type": "markdown",
   "id": "d71bbe7e",
   "metadata": {},
   "source": [
    "It is also possible to draw random numbers from a specific distribution.  **Look at the documentation for rnd.normal and then draw 1000 numbers from a gaussian distribution with $\\mu = 5.0$ and $\\sigma=1.0$.**"
   ]
  },
  {
   "cell_type": "code",
   "execution_count": 45,
   "id": "4a7d3c3d",
   "metadata": {},
   "outputs": [
    {
     "data": {
      "text/plain": [
       "array([6.32704751, 3.89081624, 5.89599129, 4.80977122, 4.42980703,\n",
       "       4.82497696, 6.58258052, 2.93436802, 6.58891502, 5.72970289,\n",
       "       3.04410835, 4.42371612, 5.96002827, 4.56993177, 5.79206895,\n",
       "       4.64067213, 4.84725744, 4.68665491, 5.36250299, 4.20876065,\n",
       "       4.48770762, 3.88395066, 4.03897235, 4.06181628, 4.70233512,\n",
       "       5.28271967, 4.95544982, 4.3538069 , 6.582094  , 5.82507891,\n",
       "       4.8357283 , 7.66551091, 4.36256126, 4.20422015, 3.41729196,\n",
       "       4.85316567, 3.34530232, 5.61258251, 5.64321605, 5.64159964,\n",
       "       6.18654822, 6.63999201, 3.70299033, 4.08532245, 4.64049717,\n",
       "       5.47672986, 3.36402895, 3.1116349 , 5.83327211, 5.29664839,\n",
       "       3.69760042, 5.08510054, 8.07739397, 6.46197882, 4.50796963,\n",
       "       5.24613423, 4.03338718, 5.79569047, 3.13055661, 4.85706927,\n",
       "       4.012507  , 6.47213006, 4.74180093, 5.56448719, 6.11034037,\n",
       "       4.08599804, 3.74265901, 4.19383511, 4.01222445, 4.03058534,\n",
       "       4.27215847, 2.94446983, 5.14016128, 4.9173766 , 4.62893248,\n",
       "       4.32282884, 5.96122697, 5.50693196, 5.167783  , 3.99432791,\n",
       "       5.27610652, 5.9007293 , 3.31051424, 5.5463914 , 5.08819627,\n",
       "       5.95073132, 5.95081667, 5.7771313 , 5.32058891, 3.43833964,\n",
       "       6.99697111, 5.07766547, 4.91401968, 4.59670769, 4.82263   ,\n",
       "       5.7080985 , 3.77068944, 4.5841253 , 4.46875583, 6.99293364,\n",
       "       3.4830824 , 5.59104448, 4.5007681 , 3.46614734, 5.03193025,\n",
       "       5.39054922, 4.3441855 , 5.26608967, 5.97911985, 5.48481913,\n",
       "       5.7581101 , 4.28499311, 4.36801988, 5.01227077, 3.14514437,\n",
       "       5.7823172 , 4.61648104, 6.56770243, 4.99307717, 5.52120237,\n",
       "       4.25802349, 4.6508292 , 5.96409231, 2.66703875, 4.37317527,\n",
       "       5.97206756, 2.04496986, 5.30337894, 5.87639439, 5.33663594,\n",
       "       5.77631746, 4.23702981, 5.15429482, 4.56423479, 3.19875255,\n",
       "       5.6530723 , 4.18704474, 5.56960358, 3.80349944, 5.28690968,\n",
       "       3.39423509, 5.01011929, 5.3131493 , 6.73643005, 5.58398147,\n",
       "       5.30597214, 6.17824734, 5.05943411, 4.67038886, 4.48079278,\n",
       "       5.8566981 , 4.00189327, 6.06426144, 3.15492933, 4.92239105,\n",
       "       3.95194478, 4.7630563 , 4.8547376 , 5.99996679, 4.42891692,\n",
       "       5.15940985, 5.93993245, 4.12663866, 5.65994728, 5.59034886,\n",
       "       4.9244387 , 5.48687139, 5.24217785, 4.84443871, 4.3644874 ,\n",
       "       3.9746985 , 3.73040342, 5.45308337, 2.88842751, 5.21756821,\n",
       "       5.70613508, 6.18872974, 5.69210794, 5.72543153, 5.89944077,\n",
       "       5.97761778, 4.76321799, 5.26007438, 4.16880001, 4.74031738,\n",
       "       4.38176867, 6.28824338, 5.81037912, 4.92193515, 5.6556444 ,\n",
       "       5.67972746, 3.89222982, 6.11550046, 3.90227535, 4.78179886,\n",
       "       5.38250869, 5.72547973, 5.74226386, 4.91129906, 5.58284169,\n",
       "       3.72061644, 4.97500563, 6.2026458 , 7.17848214, 4.73843155,\n",
       "       4.53306511, 5.15857863, 6.14419341, 6.50258201, 6.77175468,\n",
       "       4.48435372, 5.83960202, 5.14233866, 4.55356308, 6.07985945,\n",
       "       4.78203254, 5.01355057, 5.66232495, 4.92550519, 5.80792208,\n",
       "       4.778373  , 2.54028949, 4.45981396, 4.82732292, 4.16893872,\n",
       "       5.82333672, 4.99260467, 2.92908412, 5.71140663, 8.48893218,\n",
       "       5.79659652, 5.88531181, 1.78288512, 3.87577583, 5.20556114,\n",
       "       5.03567288, 4.91217072, 4.23322214, 3.8401446 , 4.3045562 ,\n",
       "       6.56753093, 5.6451218 , 5.63241431, 5.22709197, 5.48997329,\n",
       "       5.57983881, 3.67921054, 4.9171705 , 3.2684187 , 5.8860488 ,\n",
       "       7.82903125, 4.15443538, 5.84610063, 4.63020658, 5.26506032,\n",
       "       4.64255467, 5.28122199, 5.06331349, 5.05680714, 6.06823418,\n",
       "       5.57730666, 6.6567966 , 3.68525906, 4.88787296, 5.35990877,\n",
       "       3.74537973, 4.27177884, 2.92048673, 5.01762235, 3.44261965,\n",
       "       5.84696118, 6.74883612, 5.09962184, 6.42734429, 3.77267204,\n",
       "       6.9507565 , 4.55009017, 5.60422752, 4.4537172 , 8.21683707,\n",
       "       5.93366936, 5.79283887, 6.02644214, 5.66969879, 5.11442458,\n",
       "       4.66342113, 5.3128649 , 5.49004411, 6.1226304 , 7.56215131,\n",
       "       4.08025491, 5.07900759, 4.94846972, 5.88550392, 2.9177088 ,\n",
       "       5.01630335, 3.61758833, 4.85956933, 4.26897591, 5.18771816,\n",
       "       4.32860775, 4.52779127, 3.95364026, 6.0834779 , 5.41516132,\n",
       "       4.74776359, 4.81807088, 5.93170948, 7.34858342, 4.71081   ,\n",
       "       4.27287864, 5.8536052 , 4.74294643, 6.92490815, 5.97477166,\n",
       "       6.01239419, 4.17177263, 5.28151676, 6.66100233, 4.27939308,\n",
       "       5.83503845, 5.71131192, 6.30658417, 4.73139326, 6.05764852,\n",
       "       3.18201225, 5.07092497, 6.09693366, 3.99484246, 5.44985141,\n",
       "       6.18930849, 4.39568279, 5.16733058, 5.12190683, 4.56717879,\n",
       "       4.96579836, 4.59414809, 5.02611285, 3.0413966 , 5.255465  ,\n",
       "       5.78266901, 5.85824009, 5.62854147, 2.78928806, 4.05778462,\n",
       "       3.71068876, 5.47124636, 4.93794493, 5.4069729 , 4.99778725,\n",
       "       5.6680369 , 6.18294251, 3.99346239, 5.5021857 , 4.56765331,\n",
       "       5.37854422, 3.05205918, 4.4290433 , 4.69353013, 4.00414431,\n",
       "       3.46924868, 4.46399832, 6.8658643 , 5.55246048, 4.08740932,\n",
       "       3.74192529, 4.84594188, 5.28907865, 5.31221843, 3.79088493,\n",
       "       3.61652757, 3.95614974, 6.01322668, 4.99677468, 3.6509073 ,\n",
       "       4.56778316, 4.00550454, 6.00169841, 4.34068588, 5.11763304,\n",
       "       4.6491316 , 4.94798741, 5.39484807, 5.84274502, 5.92511612,\n",
       "       4.52396169, 4.87411336, 4.18639226, 5.8387868 , 5.33253352,\n",
       "       2.99611276, 6.60466304, 6.34927664, 6.17525429, 4.12077014,\n",
       "       5.6789873 , 8.42798709, 3.70686684, 4.4524262 , 5.39276162,\n",
       "       3.99705803, 3.67708464, 6.5540398 , 5.30996477, 4.47438377,\n",
       "       5.01532581, 6.79524141, 5.8652819 , 3.76096165, 4.12530397,\n",
       "       4.83872687, 5.22312285, 5.713104  , 5.97195169, 6.16481502,\n",
       "       4.16621236, 6.99931377, 5.76229561, 4.80508194, 6.01580959,\n",
       "       5.37338793, 5.18434068, 5.58780968, 5.64237705, 4.66273435,\n",
       "       3.93488508, 6.22825725, 4.94411685, 6.51360046, 5.59200559,\n",
       "       5.4129447 , 5.23328069, 4.30817208, 4.79465262, 5.99322317,\n",
       "       6.06793949, 4.74558775, 5.19009489, 6.50711571, 3.44264497,\n",
       "       3.92957359, 4.66935388, 5.41175152, 5.23427229, 3.38130021,\n",
       "       4.04346943, 4.79502505, 6.49569879, 3.72756039, 4.9651798 ,\n",
       "       4.49615089, 4.25126421, 5.56749175, 6.36004584, 5.18107955,\n",
       "       4.38011792, 5.70684851, 5.08461203, 4.90208219, 5.22076832,\n",
       "       4.89501631, 3.52214353, 4.57805975, 5.73087204, 4.959971  ,\n",
       "       4.55062237, 5.47819905, 4.23373728, 5.31591675, 4.34454687,\n",
       "       5.09996552, 4.96521091, 4.65864238, 4.23294729, 3.90940348,\n",
       "       6.32524287, 5.54882948, 3.63940173, 4.42392072, 4.03712926,\n",
       "       5.66993958, 4.78305498, 4.16095598, 3.83286997, 4.94587897,\n",
       "       5.4574124 , 5.81454909, 5.448526  , 4.69557965, 3.29787354,\n",
       "       6.61805106, 6.3086576 , 4.09767926, 4.24181405, 4.54727411,\n",
       "       5.28600587, 5.71969093, 3.54338576, 5.83491812, 4.28743222,\n",
       "       4.3632763 , 6.34755156, 5.84514283, 6.27791992, 4.50654115,\n",
       "       4.66108829, 4.83781107, 4.29083647, 4.38151991, 4.19850316,\n",
       "       5.3075864 , 5.37483202, 3.96137832, 5.86226395, 4.49455875,\n",
       "       5.00971289, 5.61973574, 5.39259036, 6.11663626, 4.12561009,\n",
       "       6.08102321, 6.19211782, 4.20437263, 4.42180542, 4.93614213,\n",
       "       5.55145154, 5.12433737, 3.86866517, 4.82790551, 6.37077854,\n",
       "       3.35522172, 3.87700129, 5.77466378, 4.89386699, 5.12699809,\n",
       "       5.34895642, 6.25174873, 5.09054301, 6.39200829, 5.51929142,\n",
       "       4.27035389, 4.97977951, 5.3154551 , 7.37819647, 7.87661331,\n",
       "       6.37854262, 4.035688  , 4.99233929, 6.58373027, 6.40445105,\n",
       "       6.18199467, 4.09053605, 4.71391401, 4.93323108, 5.67621827,\n",
       "       6.4209944 , 4.53120068, 4.5814886 , 3.81313153, 4.89619914,\n",
       "       4.61830845, 6.05993383, 3.52527368, 5.39404056, 4.85761292,\n",
       "       4.63124546, 6.0081215 , 5.72436078, 4.58049005, 6.09803802,\n",
       "       4.72703098, 4.16563451, 4.89256992, 4.73756146, 4.06236998,\n",
       "       4.71182992, 4.86271311, 5.18201066, 5.28993156, 6.0198944 ,\n",
       "       4.66644403, 5.59731026, 6.50337657, 6.99498416, 5.23527706,\n",
       "       5.01387537, 5.58215134, 4.52705127, 4.09135583, 5.12611165,\n",
       "       3.94470885, 4.8461847 , 4.68809682, 3.12802988, 5.58143193,\n",
       "       5.90833788, 3.54110723, 6.21899038, 5.39447365, 2.73020029,\n",
       "       5.06619651, 4.54801357, 5.68386224, 6.0875577 , 4.85284425,\n",
       "       3.88622187, 7.24053975, 4.11613258, 4.78086221, 6.20561296,\n",
       "       6.17803392, 5.42955646, 6.64147387, 4.87154283, 5.43090185,\n",
       "       5.8849861 , 5.28170135, 5.7045986 , 5.5774799 , 4.25251377,\n",
       "       3.85643154, 3.46675204, 5.61182418, 6.58743137, 4.09469267,\n",
       "       4.48500626, 4.9063574 , 2.80267842, 6.51621355, 4.42009805,\n",
       "       5.54565704, 3.71545786, 5.79286042, 4.71332242, 3.91131629,\n",
       "       5.87181485, 5.17280862, 5.76771424, 6.62371342, 5.62848787,\n",
       "       3.90265201, 5.71872377, 4.87534132, 4.31579206, 5.08605088,\n",
       "       5.46570406, 7.07423403, 4.87530592, 6.45286802, 5.06528002,\n",
       "       4.7291233 , 5.59018747, 6.00290967, 4.42003402, 3.68615405,\n",
       "       4.83579303, 6.10705183, 3.64457596, 4.10228407, 4.20029913,\n",
       "       3.79792896, 4.92735673, 3.93221958, 6.15155649, 5.6421241 ,\n",
       "       3.66691238, 6.76450468, 4.22945861, 4.90642833, 4.39135454,\n",
       "       5.61846473, 7.78936802, 5.08063719, 4.84475623, 5.69150238,\n",
       "       4.04867326, 3.78814646, 6.82816953, 4.55053767, 4.69770674,\n",
       "       5.07847388, 4.16849494, 4.97597929, 6.27848078, 5.61874395,\n",
       "       3.96689953, 5.64042193, 3.4695114 , 5.11343024, 5.00396355,\n",
       "       4.45987081, 5.20694041, 5.23471151, 6.39142865, 3.96727171,\n",
       "       5.33917754, 5.18118277, 4.4943458 , 5.01600144, 4.55683362,\n",
       "       4.08563791, 6.16765513, 2.86779645, 5.27231977, 5.23129852,\n",
       "       5.51885012, 3.0579564 , 4.36355608, 4.85489765, 4.8251168 ,\n",
       "       5.05664017, 5.5714938 , 6.21386746, 4.42222831, 4.17464355,\n",
       "       6.71436176, 5.36341894, 3.61466796, 2.61135254, 5.26618686,\n",
       "       5.06035036, 4.09677598, 4.43477091, 5.33438746, 6.46991949,\n",
       "       6.59059656, 4.94758495, 4.37249221, 4.54363327, 6.09806887,\n",
       "       5.43295897, 6.69645416, 3.94191329, 5.48491195, 4.66510415,\n",
       "       3.99290639, 4.44436954, 4.92339986, 2.98081652, 2.67461179,\n",
       "       4.616004  , 4.97936372, 5.90620586, 4.2529459 , 4.80992591,\n",
       "       5.01424609, 3.83041391, 4.13832918, 4.23612284, 5.26471523,\n",
       "       6.09705567, 4.3519251 , 5.46975001, 4.27054896, 4.83642523,\n",
       "       3.61161338, 6.24177029, 7.21152989, 4.8888309 , 5.87598961,\n",
       "       5.54430284, 5.1514042 , 5.50901337, 3.77362652, 7.15635095,\n",
       "       4.75982829, 5.17323348, 4.87837131, 5.13463268, 5.4249559 ,\n",
       "       4.04224179, 5.75527867, 5.15482684, 4.42790405, 4.67346543,\n",
       "       3.76603168, 3.86816986, 3.88000883, 5.22818667, 4.20660279,\n",
       "       5.01031523, 4.47686804, 2.70756184, 5.36817976, 3.84139008,\n",
       "       3.86676306, 3.97925721, 6.60078157, 3.78513848, 4.95817729,\n",
       "       4.94413721, 4.64308329, 5.7112326 , 4.3689986 , 5.39617398,\n",
       "       4.55165121, 4.39200038, 4.61126372, 3.9426594 , 5.11123768,\n",
       "       4.10896434, 3.88446265, 4.59537147, 4.18750948, 6.13320863,\n",
       "       5.1834089 , 4.34955855, 4.83687188, 5.73414351, 5.06160915,\n",
       "       5.56464987, 5.11809949, 4.06484314, 3.89854399, 6.71076872,\n",
       "       5.27451793, 4.78215124, 4.51707827, 4.55251025, 3.94700645,\n",
       "       4.75147478, 4.87805167, 4.95620604, 6.0517029 , 5.85616037,\n",
       "       5.29356406, 3.58035817, 4.50533941, 5.14051227, 5.41370745,\n",
       "       5.20288817, 4.68659829, 4.39541247, 5.96195381, 3.73014854,\n",
       "       6.35335348, 4.92496334, 3.74820476, 3.15455291, 4.95450964,\n",
       "       5.42543515, 5.73295759, 5.08035713, 3.77688265, 5.15639694,\n",
       "       4.06977869, 5.33057579, 5.1992545 , 3.90776758, 5.82976534,\n",
       "       5.06878072, 5.65081181, 5.71754711, 4.20648272, 5.19044806,\n",
       "       3.60683603, 5.04473762, 5.54777211, 5.48859533, 5.48614221,\n",
       "       4.69680814, 5.60151097, 4.41779061, 5.66074259, 3.62051234,\n",
       "       2.96575777, 4.36328984, 3.24662115, 4.87049033, 3.25584717,\n",
       "       4.4896637 , 5.28723941, 6.06516027, 5.57616895, 4.38700131,\n",
       "       4.55456199, 6.60680077, 7.30398935, 3.61716942, 4.30924386,\n",
       "       4.06346875, 4.02356607, 4.84679289, 4.606366  , 4.42789607,\n",
       "       5.89711614, 3.17819809, 5.79168995, 4.77034119, 4.13347644,\n",
       "       4.24466442, 4.78105281, 6.55701819, 4.78710194, 6.8987235 ,\n",
       "       3.91487676, 4.83000741, 5.36735589, 5.86172407, 5.46532237,\n",
       "       5.57050938, 5.95545418, 4.52990068, 4.42827802, 5.8270692 ,\n",
       "       5.23015748, 4.6512751 , 5.72364602, 4.62598386, 6.4226894 ,\n",
       "       5.64353828, 3.60189325, 6.04709852, 5.10328906, 5.48582811,\n",
       "       3.69364243, 4.54728321, 4.86325959, 3.47912799, 4.1967082 ,\n",
       "       3.57183105, 5.44968692, 5.39004523, 4.35467945, 4.025545  ,\n",
       "       6.10671103, 3.97169139, 4.18765264, 6.96675425, 5.24356846,\n",
       "       5.30489426, 5.955764  , 6.15254154, 5.29526159, 5.35645503,\n",
       "       4.92082606, 5.90608286, 4.13884056, 6.30974911, 3.74378457,\n",
       "       5.02330703, 6.35764772, 3.71057416, 3.42169104, 4.30885728,\n",
       "       5.15832275, 5.18386532, 5.63851439, 5.9330684 , 3.6867163 ,\n",
       "       5.74333841, 4.80520871, 4.20553183, 5.14227689, 6.7414889 ,\n",
       "       4.98834527, 2.12731281, 4.82441282, 5.14916679, 2.44392316,\n",
       "       4.79183183, 4.54457058, 4.95334533, 4.53560053, 6.33858154,\n",
       "       4.4947643 , 5.87111312, 6.29574132, 4.91167433, 5.01063986,\n",
       "       4.09260647, 7.53656887, 7.30696325, 4.4081634 , 4.08405495,\n",
       "       4.43685581, 6.40943162, 5.06009436, 3.61058018, 4.89255161,\n",
       "       5.46161903, 4.8614765 , 3.3437122 , 4.6486772 , 5.06799679,\n",
       "       4.52765581, 4.93304944, 5.11556732, 5.68074508, 3.51446551,\n",
       "       4.73419183, 4.96429194, 5.60584388, 5.25121253, 5.5719583 ,\n",
       "       3.7277785 , 4.1766071 , 3.9584169 , 4.46196489, 5.77161664])"
      ]
     },
     "execution_count": 45,
     "metadata": {},
     "output_type": "execute_result"
    },
    {
     "name": "stdout",
     "output_type": "stream",
     "text": [
      "\u001b[1;31mDocstring:\u001b[0m\n",
      "normal(loc=0.0, scale=1.0, size=None)\n",
      "\n",
      "Draw random samples from a normal (Gaussian) distribution.\n",
      "\n",
      "The probability density function of the normal distribution, first\n",
      "derived by De Moivre and 200 years later by both Gauss and Laplace\n",
      "independently [2]_, is often called the bell curve because of\n",
      "its characteristic shape (see the example below).\n",
      "\n",
      "The normal distributions occurs often in nature.  For example, it\n",
      "describes the commonly occurring distribution of samples influenced\n",
      "by a large number of tiny, random disturbances, each with its own\n",
      "unique distribution [2]_.\n",
      "\n",
      ".. note::\n",
      "    New code should use the `~numpy.random.Generator.normal`\n",
      "    method of a `~numpy.random.Generator` instance instead;\n",
      "    please see the :ref:`random-quick-start`.\n",
      "\n",
      "Parameters\n",
      "----------\n",
      "loc : float or array_like of floats\n",
      "    Mean (\"centre\") of the distribution.\n",
      "scale : float or array_like of floats\n",
      "    Standard deviation (spread or \"width\") of the distribution. Must be\n",
      "    non-negative.\n",
      "size : int or tuple of ints, optional\n",
      "    Output shape.  If the given shape is, e.g., ``(m, n, k)``, then\n",
      "    ``m * n * k`` samples are drawn.  If size is ``None`` (default),\n",
      "    a single value is returned if ``loc`` and ``scale`` are both scalars.\n",
      "    Otherwise, ``np.broadcast(loc, scale).size`` samples are drawn.\n",
      "\n",
      "Returns\n",
      "-------\n",
      "out : ndarray or scalar\n",
      "    Drawn samples from the parameterized normal distribution.\n",
      "\n",
      "See Also\n",
      "--------\n",
      "scipy.stats.norm : probability density function, distribution or\n",
      "    cumulative density function, etc.\n",
      "random.Generator.normal: which should be used for new code.\n",
      "\n",
      "Notes\n",
      "-----\n",
      "The probability density for the Gaussian distribution is\n",
      "\n",
      ".. math:: p(x) = \\frac{1}{\\sqrt{ 2 \\pi \\sigma^2 }}\n",
      "                 e^{ - \\frac{ (x - \\mu)^2 } {2 \\sigma^2} },\n",
      "\n",
      "where :math:`\\mu` is the mean and :math:`\\sigma` the standard\n",
      "deviation. The square of the standard deviation, :math:`\\sigma^2`,\n",
      "is called the variance.\n",
      "\n",
      "The function has its peak at the mean, and its \"spread\" increases with\n",
      "the standard deviation (the function reaches 0.607 times its maximum at\n",
      ":math:`x + \\sigma` and :math:`x - \\sigma` [2]_).  This implies that\n",
      "normal is more likely to return samples lying close to the mean, rather\n",
      "than those far away.\n",
      "\n",
      "References\n",
      "----------\n",
      ".. [1] Wikipedia, \"Normal distribution\",\n",
      "       https://en.wikipedia.org/wiki/Normal_distribution\n",
      ".. [2] P. R. Peebles Jr., \"Central Limit Theorem\" in \"Probability,\n",
      "       Random Variables and Random Signal Principles\", 4th ed., 2001,\n",
      "       pp. 51, 51, 125.\n",
      "\n",
      "Examples\n",
      "--------\n",
      "Draw samples from the distribution:\n",
      "\n",
      ">>> mu, sigma = 0, 0.1 # mean and standard deviation\n",
      ">>> s = np.random.normal(mu, sigma, 1000)\n",
      "\n",
      "Verify the mean and the variance:\n",
      "\n",
      ">>> abs(mu - np.mean(s))\n",
      "0.0  # may vary\n",
      "\n",
      ">>> abs(sigma - np.std(s, ddof=1))\n",
      "0.1  # may vary\n",
      "\n",
      "Display the histogram of the samples, along with\n",
      "the probability density function:\n",
      "\n",
      ">>> import matplotlib.pyplot as plt\n",
      ">>> count, bins, ignored = plt.hist(s, 30, density=True)\n",
      ">>> plt.plot(bins, 1/(sigma * np.sqrt(2 * np.pi)) *\n",
      "...                np.exp( - (bins - mu)**2 / (2 * sigma**2) ),\n",
      "...          linewidth=2, color='r')\n",
      ">>> plt.show()\n",
      "\n",
      "Two-by-four array of samples from the normal distribution with\n",
      "mean 3 and standard deviation 2.5:\n",
      "\n",
      ">>> np.random.normal(3, 2.5, size=(2, 4))\n",
      "array([[-4.49401501,  4.00950034, -1.81814867,  7.29718677],   # random\n",
      "       [ 0.39924804,  4.68456316,  4.99394529,  4.84057254]])  # random\n",
      "\u001b[1;31mType:\u001b[0m      builtin_function_or_method"
     ]
    }
   ],
   "source": [
    "?rnd.normal\n",
    "rnd.normal(5,1,1000)"
   ]
  },
  {
   "cell_type": "markdown",
   "id": "5e1f03d0",
   "metadata": {},
   "source": [
    "**Now plot a histogram with these gaussian random numbers in.  Look up the documentation for matplotlib histograms if you have forgotton how to do this!  How many bins are appropriate?**"
   ]
  },
  {
   "cell_type": "code",
   "execution_count": 46,
   "id": "36bbb421",
   "metadata": {},
   "outputs": [
    {
     "data": {
      "text/plain": [
       "(array([  7.,  49., 107., 213., 242., 206., 120.,  46.,   9.,   1.]),\n",
       " array([1.99415773, 2.65639829, 3.31863885, 3.9808794 , 4.64311996,\n",
       "        5.30536052, 5.96760108, 6.62984164, 7.2920822 , 7.95432275,\n",
       "        8.61656331]),\n",
       " <BarContainer object of 10 artists>)"
      ]
     },
     "execution_count": 46,
     "metadata": {},
     "output_type": "execute_result"
    },
    {
     "data": {
      "image/png": "[encoded data removed]",
      "text/plain": [
       "<Figure size 640x480 with 1 Axes>"
      ]
     },
     "metadata": {},
     "output_type": "display_data"
    }
   ],
   "source": [
    "plt.hist(rnd.normal(5,1,1000),bins=10)"
   ]
  },
  {
   "cell_type": "markdown",
   "id": "98768b76",
   "metadata": {},
   "source": [
    "# Checkpoint 1 #\n",
    "\n",
    "Ask a demonstrator to check your code!"
   ]
  },
  {
   "cell_type": "markdown",
   "id": "714d4cce",
   "metadata": {},
   "source": [
    "# Plotting Images #\n",
    "\n",
    "It is easy to plot images with matplotlib.  One thing to note is that the default y-axis direction is down, you can flip this using the origin arguement to imshow."
   ]
  },
  {
   "cell_type": "code",
   "execution_count": 47,
   "id": "ba4a989b",
   "metadata": {},
   "outputs": [
    {
     "name": "stdout",
     "output_type": "stream",
     "text": [
      "[[1. 1. 1. 1. 1. 1. 1. 1. 1. 1.]\n",
      " [1. 1. 1. 1. 1. 1. 1. 1. 1. 1.]\n",
      " [1. 1. 1. 1. 1. 1. 1. 1. 1. 1.]\n",
      " [1. 1. 1. 1. 1. 1. 1. 1. 1. 1.]\n",
      " [1. 1. 1. 1. 1. 1. 1. 1. 1. 1.]\n",
      " [1. 1. 1. 1. 1. 1. 1. 1. 1. 1.]\n",
      " [1. 1. 1. 1. 1. 1. 1. 1. 1. 1.]\n",
      " [1. 1. 1. 1. 1. 1. 1. 1. 1. 1.]\n",
      " [1. 1. 1. 1. 1. 1. 1. 1. 1. 1.]\n",
      " [1. 1. 1. 1. 1. 1. 1. 1. 1. 1.]]\n"
     ]
    },
    {
     "data": {
      "text/plain": [
       "<matplotlib.colorbar.Colorbar at 0x1c005b70820>"
      ]
     },
     "execution_count": 47,
     "metadata": {},
     "output_type": "execute_result"
    },
    {
     "data": {
      "image/png": "[encoded data removed]",
      "text/plain": [
       "<Figure size 640x480 with 2 Axes>"
      ]
     },
     "metadata": {},
     "output_type": "display_data"
    }
   ],
   "source": [
    "data = np.ones((10,10))\n",
    "print(data)\n",
    "plt.figure()\n",
    "plt.imshow(data, origin='lower')\n",
    "plt.colorbar()"
   ]
  },
  {
   "cell_type": "markdown",
   "id": "66818ba2",
   "metadata": {},
   "source": [
    "This is a pretty boring image.  Let's add some random noise to our data and the plot again.  **Add gaussian random noise with $\\sigma = 0.1$ to the data and plot again**"
   ]
  },
  {
   "cell_type": "code",
   "execution_count": 48,
   "id": "6a197f7b",
   "metadata": {},
   "outputs": [
    {
     "data": {
      "text/plain": [
       "<matplotlib.colorbar.Colorbar at 0x1c005e22650>"
      ]
     },
     "execution_count": 48,
     "metadata": {},
     "output_type": "execute_result"
    },
    {
     "data": {
      "image/png": "[encoded data removed]",
      "text/plain": [
       "<Figure size 640x480 with 2 Axes>"
      ]
     },
     "metadata": {},
     "output_type": "display_data"
    }
   ],
   "source": [
    "new_data = (rnd.normal(5,0.1,size=(25,25)))\n",
    "plt.figure()\n",
    "plt.imshow(new_data, origin='lower')\n",
    "plt.colorbar()"
   ]
  },
  {
   "cell_type": "markdown",
   "id": "85039d2f",
   "metadata": {},
   "source": [
    "# Subplots #\n",
    "\n",
    "We can also make multiple subplots with matplotlib, check out the documentation:"
   ]
  },
  {
   "cell_type": "code",
   "execution_count": 49,
   "id": "0bb2d63b",
   "metadata": {},
   "outputs": [
    {
     "name": "stdout",
     "output_type": "stream",
     "text": [
      "\u001b[1;31mSignature:\u001b[0m \u001b[0mplt\u001b[0m\u001b[1;33m.\u001b[0m\u001b[0msubplot\u001b[0m\u001b[1;33m(\u001b[0m\u001b[1;33m*\u001b[0m\u001b[0margs\u001b[0m\u001b[1;33m,\u001b[0m \u001b[1;33m**\u001b[0m\u001b[0mkwargs\u001b[0m\u001b[1;33m)\u001b[0m\u001b[1;33m\u001b[0m\u001b[1;33m\u001b[0m\u001b[0m\n",
      "\u001b[1;31mDocstring:\u001b[0m\n",
      "Add an Axes to the current figure or retrieve an existing Axes.\n",
      "\n",
      "This is a wrapper of `.Figure.add_subplot` which provides additional\n",
      "behavior when working with the implicit API (see the notes section).\n",
      "\n",
      "Call signatures::\n",
      "\n",
      "   subplot(nrows, ncols, index, **kwargs)\n",
      "   subplot(pos, **kwargs)\n",
      "   subplot(**kwargs)\n",
      "   subplot(ax)\n",
      "\n",
      "Parameters\n",
      "----------\n",
      "*args : int, (int, int, *index*), or `.SubplotSpec`, default: (1, 1, 1)\n",
      "    The position of the subplot described by one of\n",
      "\n",
      "    - Three integers (*nrows*, *ncols*, *index*). The subplot will take the\n",
      "      *index* position on a grid with *nrows* rows and *ncols* columns.\n",
      "      *index* starts at 1 in the upper left corner and increases to the\n",
      "      right. *index* can also be a two-tuple specifying the (*first*,\n",
      "      *last*) indices (1-based, and including *last*) of the subplot, e.g.,\n",
      "      ``fig.add_subplot(3, 1, (1, 2))`` makes a subplot that spans the\n",
      "      upper 2/3 of the figure.\n",
      "    - A 3-digit integer. The digits are interpreted as if given separately\n",
      "      as three single-digit integers, i.e. ``fig.add_subplot(235)`` is the\n",
      "      same as ``fig.add_subplot(2, 3, 5)``. Note that this can only be used\n",
      "      if there are no more than 9 subplots.\n",
      "    - A `.SubplotSpec`.\n",
      "\n",
      "projection : {None, 'aitoff', 'hammer', 'lambert', 'mollweide', 'polar', 'rectilinear', str}, optional\n",
      "    The projection type of the subplot (`~.axes.Axes`). *str* is the name\n",
      "    of a custom projection, see `~matplotlib.projections`. The default\n",
      "    None results in a 'rectilinear' projection.\n",
      "\n",
      "polar : bool, default: False\n",
      "    If True, equivalent to projection='polar'.\n",
      "\n",
      "sharex, sharey : `~.axes.Axes`, optional\n",
      "    Share the x or y `~matplotlib.axis` with sharex and/or sharey. The\n",
      "    axis will have the same limits, ticks, and scale as the axis of the\n",
      "    shared axes.\n",
      "\n",
      "label : str\n",
      "    A label for the returned axes.\n",
      "\n",
      "Returns\n",
      "-------\n",
      "`.axes.SubplotBase`, or another subclass of `~.axes.Axes`\n",
      "\n",
      "    The axes of the subplot. The returned axes base class depends on\n",
      "    the projection used. It is `~.axes.Axes` if rectilinear projection\n",
      "    is used and `.projections.polar.PolarAxes` if polar projection\n",
      "    is used. The returned axes is then a subplot subclass of the\n",
      "    base class.\n",
      "\n",
      "Other Parameters\n",
      "----------------\n",
      "**kwargs\n",
      "    This method also takes the keyword arguments for the returned axes\n",
      "    base class; except for the *figure* argument. The keyword arguments\n",
      "    for the rectilinear base class `~.axes.Axes` can be found in\n",
      "    the following table but there might also be other keyword\n",
      "    arguments if another projection is used.\n",
      "\n",
      "    Properties:\n",
      "    adjustable: {'box', 'datalim'}\n",
      "    agg_filter: a filter function, which takes a (m, n, 3) float array and a dpi value, and returns a (m, n, 3) array and two offsets from the bottom left corner of the image\n",
      "    alpha: scalar or None\n",
      "    anchor: (float, float) or {'C', 'SW', 'S', 'SE', 'E', 'NE', ...}\n",
      "    animated: bool\n",
      "    aspect: {'auto', 'equal'} or float\n",
      "    autoscale_on: bool\n",
      "    autoscalex_on: unknown\n",
      "    autoscaley_on: unknown\n",
      "    axes_locator: Callable[[Axes, Renderer], Bbox]\n",
      "    axisbelow: bool or 'line'\n",
      "    box_aspect: float or None\n",
      "    clip_box: `.Bbox`\n",
      "    clip_on: bool\n",
      "    clip_path: Patch or (Path, Transform) or None\n",
      "    facecolor or fc: color\n",
      "    figure: `.Figure`\n",
      "    frame_on: bool\n",
      "    gid: str\n",
      "    in_layout: bool\n",
      "    label: object\n",
      "    mouseover: bool\n",
      "    navigate: bool\n",
      "    navigate_mode: unknown\n",
      "    path_effects: `.AbstractPathEffect`\n",
      "    picker: None or bool or float or callable\n",
      "    position: [left, bottom, width, height] or `~matplotlib.transforms.Bbox`\n",
      "    prop_cycle: unknown\n",
      "    rasterization_zorder: float or None\n",
      "    rasterized: bool\n",
      "    sketch_params: (scale: float, length: float, randomness: float)\n",
      "    snap: bool or None\n",
      "    title: str\n",
      "    transform: `.Transform`\n",
      "    url: str\n",
      "    visible: bool\n",
      "    xbound: unknown\n",
      "    xlabel: str\n",
      "    xlim: (bottom: float, top: float)\n",
      "    xmargin: float greater than -0.5\n",
      "    xscale: unknown\n",
      "    xticklabels: unknown\n",
      "    xticks: unknown\n",
      "    ybound: unknown\n",
      "    ylabel: str\n",
      "    ylim: (bottom: float, top: float)\n",
      "    ymargin: float greater than -0.5\n",
      "    yscale: unknown\n",
      "    yticklabels: unknown\n",
      "    yticks: unknown\n",
      "    zorder: float\n",
      "\n",
      "Notes\n",
      "-----\n",
      "Creating a new Axes will delete any preexisting Axes that\n",
      "overlaps with it beyond sharing a boundary::\n",
      "\n",
      "    import matplotlib.pyplot as plt\n",
      "    # plot a line, implicitly creating a subplot(111)\n",
      "    plt.plot([1, 2, 3])\n",
      "    # now create a subplot which represents the top plot of a grid\n",
      "    # with 2 rows and 1 column. Since this subplot will overlap the\n",
      "    # first, the plot (and its axes) previously created, will be removed\n",
      "    plt.subplot(211)\n",
      "\n",
      "If you do not want this behavior, use the `.Figure.add_subplot` method\n",
      "or the `.pyplot.axes` function instead.\n",
      "\n",
      "If no *kwargs* are passed and there exists an Axes in the location\n",
      "specified by *args* then that Axes will be returned rather than a new\n",
      "Axes being created.\n",
      "\n",
      "If *kwargs* are passed and there exists an Axes in the location\n",
      "specified by *args*, the projection type is the same, and the\n",
      "*kwargs* match with the existing Axes, then the existing Axes is\n",
      "returned.  Otherwise a new Axes is created with the specified\n",
      "parameters.  We save a reference to the *kwargs* which we use\n",
      "for this comparison.  If any of the values in *kwargs* are\n",
      "mutable we will not detect the case where they are mutated.\n",
      "In these cases we suggest using `.Figure.add_subplot` and the\n",
      "explicit Axes API rather than the implicit pyplot API.\n",
      "\n",
      "See Also\n",
      "--------\n",
      ".Figure.add_subplot\n",
      ".pyplot.subplots\n",
      ".pyplot.axes\n",
      ".Figure.subplots\n",
      "\n",
      "Examples\n",
      "--------\n",
      "::\n",
      "\n",
      "    plt.subplot(221)\n",
      "\n",
      "    # equivalent but more general\n",
      "    ax1 = plt.subplot(2, 2, 1)\n",
      "\n",
      "    # add a subplot with no frame\n",
      "    ax2 = plt.subplot(222, frameon=False)\n",
      "\n",
      "    # add a polar subplot\n",
      "    plt.subplot(223, projection='polar')\n",
      "\n",
      "    # add a red subplot that shares the x-axis with ax1\n",
      "    plt.subplot(224, sharex=ax1, facecolor='red')\n",
      "\n",
      "    # delete ax2 from the figure\n",
      "    plt.delaxes(ax2)\n",
      "\n",
      "    # add ax2 to the figure again\n",
      "    plt.subplot(ax2)\n",
      "\n",
      "    # make the first axes \"current\" again\n",
      "    plt.subplot(221)\n",
      "\u001b[1;31mFile:\u001b[0m      c:\\users\\saashiv\\appdata\\local\\packages\\pythonsoftwarefoundation.python.3.10_qbz5n2kfra8p0\\localcache\\local-packages\\python310\\site-packages\\matplotlib\\pyplot.py\n",
      "\u001b[1;31mType:\u001b[0m      function"
     ]
    }
   ],
   "source": [
    "?plt.subplot"
   ]
  },
  {
   "cell_type": "markdown",
   "id": "eb8d0416",
   "metadata": {},
   "source": [
    "**Now use a loop to make a 3x3 array of subplots adding different amounts of gaussian noise to each, with $\\sigma = 0.1, 0.2, ..., 0.9$.  Label each subplot with the value of $\\sigma$**"
   ]
  },
  {
   "cell_type": "code",
   "execution_count": 83,
   "id": "cc2011aa",
   "metadata": {},
   "outputs": [
    {
     "name": "stdout",
     "output_type": "stream",
     "text": [
      "<class 'numpy.ndarray'>\n"
     ]
    },
    {
     "data": {
      "image/png": "[encoded data removed]",
      "text/plain": [
       "<Figure size 640x480 with 9 Axes>"
      ]
     },
     "metadata": {},
     "output_type": "display_data"
    }
   ],
   "source": [
    "fig, axs = plt.subplots(3, 3, sharey=True, tight_layout=True)\n",
    "print(type(axs[0]))\n",
    "sigma = np.linspace(0.1,0.9,9)\n",
    "count = 0\n",
    "for i in range(3):\n",
    "    for j in range(3):\n",
    "        new_data = (rnd.normal(5,sigma[count],size=(25,25)))\n",
    "        axs[i,j].hist(new_data)\n",
    "        count += 1"
   ]
  },
  {
   "cell_type": "markdown",
   "id": "6f75e41d",
   "metadata": {},
   "source": [
    "# Checkpoint 2 #\n",
    "Ask a demonstrator to check your code!"
   ]
  },
  {
   "cell_type": "markdown",
   "id": "94733065",
   "metadata": {},
   "source": [
    "**Now repeat the same exercise from above, but instead of starting from an array containing all ones, start with an array of random integers drawn from $[10,20)$**"
   ]
  },
  {
   "cell_type": "code",
   "execution_count": 96,
   "id": "ca11ee23",
   "metadata": {},
   "outputs": [
    {
     "name": "stdout",
     "output_type": "stream",
     "text": [
      "<class 'numpy.ndarray'>\n"
     ]
    },
    {
     "data": {
      "image/png": "[encoded data removed]",
      "text/plain": [
       "<Figure size 640x480 with 9 Axes>"
      ]
     },
     "metadata": {},
     "output_type": "display_data"
    }
   ],
   "source": [
    "my_array = rnd.random((25,25))*10+10\n",
    "\n",
    "fig, axs = plt.subplots(3, 3, sharey=True, tight_layout=True)\n",
    "print(type(axs[0]))\n",
    "sigma = np.linspace(0.1,0.9,9)\n",
    "count = 0\n",
    "for i in range(3):\n",
    "    for j in range(3):\n",
    "        new_data = my_array+(rnd.normal(5,sigma[count],size=(25,25)))\n",
    "        axs[i,j].hist(new_data)\n",
    "        count += 1"
   ]
  },
  {
   "cell_type": "markdown",
   "id": "b07cfae0",
   "metadata": {},
   "source": [
    "# Checkpoint 3 #\n",
    "Ask a demonstrator to check your code!"
   ]
  }
 ],
 "metadata": {
  "kernelspec": {
   "display_name": "Python 3",
   "language": "python",
   "name": "python3"
  },
  "language_info": {
   "codemirror_mode": {
    "name": "ipython",
    "version": 3
   },
   "file_extension": ".py",
   "mimetype": "text/x-python",
   "name": "python",
   "nbconvert_exporter": "python",
   "pygments_lexer": "ipython3",
   "version": "3.10.9"
  },
  "vscode": {
   "interpreter": {
    "hash": "c1334c4173d115d2229155c81832ac6f36b016912c06f305e8f3d08e7ee4f951"
   }
  }
 },
 "nbformat": 4,
 "nbformat_minor": 5
}

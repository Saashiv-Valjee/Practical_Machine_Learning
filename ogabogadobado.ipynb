{
 "cells": [
  {
   "cell_type": "code",
   "execution_count": 1,
   "id": "d1df3d24",
   "metadata": {},
   "outputs": [
    {
     "name": "stderr",
     "output_type": "stream",
     "text": [
      "2023-03-10 18:48:17.947188: I tensorflow/core/platform/cpu_feature_guard.cc:193] This TensorFlow binary is optimized with oneAPI Deep Neural Network Library (oneDNN) to use the following CPU instructions in performance-critical operations:  AVX2 FMA\n",
      "To enable them in other operations, rebuild TensorFlow with the appropriate compiler flags.\n"
     ]
    }
   ],
   "source": [
    "import tensorflow as tf\n",
    "from tensorflow import keras  \n",
    "import numpy as np\n",
    "import pandas as pd\n",
    "from numpy.random import randint\n",
    "import matplotlib.pyplot as plt \n",
    "from sklearn.model_selection import train_test_split\n",
    "from sklearn.utils import shuffle\n",
    "from sklearn.metrics import accuracy_score\n",
    "import matplotlib.pyplot as plt\n",
    "from sklearn.metrics import roc_curve, auc\n",
    "from tensorflow.keras.preprocessing.image import ImageDataGenerator\n",
    "import os\n",
    "\n",
    "at_home = True\n",
    "\n",
    "if at_home == True:\n",
    "    checkpoint1_path = 'model_weights_home/cp-{epoch:04d}.ckpt'\n",
    "    checkpoint2_path = 'binary_model_weights_home/cp-{epoch:04d}.ckpt'\n",
    "else:\n",
    "    checkpoint1_path = 'model_weights_uni/cp-{epoch:04d}.ckpt'\n",
    "    checkpoint2_path = 'binary_model_weights_uni/cp-{epoch:04d}.ckpt'"
   ]
  },
  {
   "cell_type": "code",
   "execution_count": 2,
   "id": "9ac89028",
   "metadata": {},
   "outputs": [
    {
     "name": "stdout",
     "output_type": "stream",
     "text": [
      "image classes\n",
      "dataframe\n",
      "shuffling\n"
     ]
    }
   ],
   "source": [
    "print('image classes')\n",
    "image_classes = np.loadtxt('labels-map-proj-v3.txt',dtype=str,delimiter=' ')\n",
    "\n",
    "print('dataframe')\n",
    "df =pd.DataFrame(image_classes,columns=['filename','class'])\n",
    "\n",
    "print('shuffling')\n",
    "df = shuffle(df)"
   ]
  },
  {
   "cell_type": "code",
   "execution_count": 3,
   "id": "a82883a1",
   "metadata": {},
   "outputs": [
    {
     "name": "stdout",
     "output_type": "stream",
     "text": [
      "61054\n",
      "4900\n",
      "1141\n",
      "2331\n",
      "1750\n",
      "231\n",
      "1148\n",
      "476\n",
      "\n",
      " 231\n",
      "0\n",
      "1\n",
      "2\n",
      "3\n",
      "4\n",
      "5\n",
      "6\n",
      "7\n",
      "231\n",
      "231\n",
      "231\n",
      "231\n",
      "231\n",
      "231\n",
      "231\n",
      "231\n"
     ]
    },
    {
     "data": {
      "text/plain": [
       "'clist = [0,1]\\nfor i in clist:\\n    df_other = df[df[\\'class\\']==str(i)].sample(n=1250,random_state=1)\\n    df = df.drop(df.index[(df[\"class\"] == str(i))])\\n    df = pd.concat([df_other,df])\\n\\nclist = [i for i in range(0,8)]\\nnum_class = []\\nfor i in clist:\\n    num_class.append(len(df[df[\\'class\\']==str(i)]))\\n    print(len(df[df[\\'class\\']==str(i)]))'"
      ]
     },
     "execution_count": 3,
     "metadata": {},
     "output_type": "execute_result"
    }
   ],
   "source": [
    "# class balancing everything\n",
    "clist = [i for i in range(0,8)]\n",
    "num_class = []\n",
    "for i in clist:\n",
    "    num_class.append(len(df[df['class']==str(i)]))\n",
    "    print(len(df[df['class']==str(i)]))\n",
    "print('\\n',np.min(num_class))\n",
    "\n",
    "for i in clist:\n",
    "    print(i)\n",
    "    df_other = df[df['class']==str(i)].sample(n=np.min(num_class), random_state=1)\n",
    "    df = df.drop(df.index[(df[\"class\"] == str(i))])\n",
    "    df = pd.concat([df_other,df])\n",
    "    \n",
    "clist = [i for i in range(0,8)]\n",
    "num_class = []\n",
    "for i in clist:\n",
    "    num_class.append(len(df[df['class']==str(i)]))\n",
    "    print(len(df[df['class']==str(i)]))\n",
    "\n",
    "# class balancing with only crater and other \n",
    "'''clist = [0,1]\n",
    "for i in clist:\n",
    "    df_other = df[df['class']==str(i)].sample(n=1250,random_state=1)\n",
    "    df = df.drop(df.index[(df[\"class\"] == str(i))])\n",
    "    df = pd.concat([df_other,df])\n",
    "\n",
    "clist = [i for i in range(0,8)]\n",
    "num_class = []\n",
    "for i in clist:\n",
    "    num_class.append(len(df[df['class']==str(i)]))\n",
    "    print(len(df[df['class']==str(i)]))'''"
   ]
  },
  {
   "cell_type": "code",
   "execution_count": 4,
   "id": "3be371be",
   "metadata": {},
   "outputs": [
    {
     "name": "stdout",
     "output_type": "stream",
     "text": [
      "traintestsplit\n",
      "image generator\n",
      "batching\n",
      "Found 739 validated image filenames belonging to 8 classes.\n",
      "Found 370 validated image filenames belonging to 8 classes.\n",
      "Found 739 validated image filenames belonging to 8 classes.\n"
     ]
    }
   ],
   "source": [
    "print('traintestsplit')\n",
    "train_df,test_df = train_test_split(df,test_size=0.2)\n",
    "train_df,val_df = train_test_split(train_df,test_size=0.5)\n",
    "\n",
    "print('image generator')\n",
    "idg = ImageDataGenerator(rescale=1./255.) # normalize\n",
    "batchsize=128\n",
    "\n",
    "print('batching')\n",
    "train_ds = idg.flow_from_dataframe(dataframe=train_df, directory='map-proj-v3',batch_size=batchsize)\n",
    "test_ds  = idg.flow_from_dataframe(dataframe= test_df, directory='map-proj-v3',batch_size=batchsize)\n",
    "val_ds =   idg.flow_from_dataframe(dataframe=  val_df, directory='map-proj-v3',batch_size=batchsize)"
   ]
  },
  {
   "cell_type": "code",
   "execution_count": 5,
   "id": "0ec1c76b",
   "metadata": {},
   "outputs": [
    {
     "name": "stdout",
     "output_type": "stream",
     "text": [
      "                                filename class\n",
      "72834   ESP_049651_1050_RED-0070-brt.jpg     7\n",
      "72932   PSP_003470_0930_RED-0113-brt.jpg     7\n",
      "60973  PSP_003470_0930_RED-0040-r270.jpg     7\n",
      "49092   ESP_049651_1050_RED-0090-r90.jpg     7\n",
      "36531    PSP_003470_0930_RED-0116-fv.jpg     7\n",
      "...                                  ...   ...\n",
      "27890  ESP_036575_2075_RED-0152-r180.jpg     0\n",
      "37462    PSP_008462_1440_RED-0357-fv.jpg     0\n",
      "54649       ESP_026472_1410_RED-0397.jpg     0\n",
      "64935  ESP_017001_1805_RED-0311-r270.jpg     0\n",
      "42398   ESP_017770_1990_RED-0406-brt.jpg     0\n",
      "\n",
      "[1848 rows x 2 columns]\n"
     ]
    }
   ],
   "source": [
    "print(df)"
   ]
  },
  {
   "cell_type": "code",
   "execution_count": 6,
   "id": "c563a825",
   "metadata": {},
   "outputs": [
    {
     "name": "stderr",
     "output_type": "stream",
     "text": [
      "2023-03-10 18:48:22.104537: I tensorflow/compiler/xla/stream_executor/cuda/cuda_gpu_executor.cc:981] successful NUMA node read from SysFS had negative value (-1), but there must be at least one NUMA node, so returning NUMA node zero\n",
      "2023-03-10 18:48:22.105927: W tensorflow/compiler/xla/stream_executor/platform/default/dso_loader.cc:64] Could not load dynamic library 'libcufft.so.10'; dlerror: libcufft.so.10: cannot open shared object file: No such file or directory; LD_LIBRARY_PATH: /usr/local/anaconda3/envs/tf2.11/lib::/usr/lib/nvidia:/usr/local/cuda/lib64\n",
      "2023-03-10 18:48:22.147729: W tensorflow/compiler/xla/stream_executor/platform/default/dso_loader.cc:64] Could not load dynamic library 'libcusparse.so.11'; dlerror: libcusparse.so.11: cannot open shared object file: No such file or directory; LD_LIBRARY_PATH: /usr/local/anaconda3/envs/tf2.11/lib::/usr/lib/nvidia:/usr/local/cuda/lib64\n",
      "2023-03-10 18:48:22.147792: W tensorflow/core/common_runtime/gpu/gpu_device.cc:1934] Cannot dlopen some GPU libraries. Please make sure the missing libraries mentioned above are installed properly if you would like to use GPU. Follow the guide at https://www.tensorflow.org/install/gpu for how to download and setup the required libraries for your platform.\n",
      "Skipping registering GPU devices...\n",
      "2023-03-10 18:48:22.148091: I tensorflow/core/platform/cpu_feature_guard.cc:193] This TensorFlow binary is optimized with oneAPI Deep Neural Network Library (oneDNN) to use the following CPU instructions in performance-critical operations:  AVX2 FMA\n",
      "To enable them in other operations, rebuild TensorFlow with the appropriate compiler flags.\n"
     ]
    },
    {
     "name": "stdout",
     "output_type": "stream",
     "text": [
      "4\n"
     ]
    },
    {
     "data": {
      "text/plain": [
       "<matplotlib.image.AxesImage at 0x7f19fc2c56a0>"
      ]
     },
     "execution_count": 6,
     "metadata": {},
     "output_type": "execute_result"
    },
    {
     "data": {
      "image/png": "[encoded data removed]",
      "text/plain": [
       "<Figure size 640x480 with 1 Axes>"
      ]
     },
     "metadata": {},
     "output_type": "display_data"
    }
   ],
   "source": [
    "resize = 128\n",
    "image_test = tf.image.resize(\n",
    "    train_ds[0][0][0],\n",
    "    [resize,resize])\n",
    "print(np.argmax(train_ds[0][1][0]))\n",
    "plt.imshow(image_test)"
   ]
  },
  {
   "cell_type": "code",
   "execution_count": null,
   "id": "732356b2",
   "metadata": {},
   "outputs": [
    {
     "name": "stdout",
     "output_type": "stream",
     "text": [
      "--------------------------------------------------------------------------------------------------------------\n",
      "\u001b[92mWill train a convolutional neural network on the MNIST data\u001b[0m\n",
      "--------------------------------------------------------------------------------------------------------------\n",
      "\n",
      "\n",
      "Input data MNIST\n",
      "Leaky relu parameter =  0.1\n",
      "BatchSize            =  128\n",
      "Nepochs              =  75 \n",
      "\n",
      "Model: \"sequential\"\n",
      "_________________________________________________________________\n",
      " Layer (type)                Output Shape              Param #   \n",
      "=================================================================\n",
      " lambda (Lambda)             (0, 128, 128, 3)          0         \n",
      "                                                                 \n",
      " conv2d (Conv2D)             (0, 128, 128, 64)         1792      \n",
      "                                                                 \n",
      " max_pooling2d (MaxPooling2D  (0, 64, 64, 64)          0         \n",
      " )                                                               \n",
      "                                                                 \n",
      " dropout (Dropout)           (0, 64, 64, 64)           0         \n",
      "                                                                 \n",
      " conv2d_1 (Conv2D)           (0, 64, 64, 128)          73856     \n",
      "                                                                 \n",
      " max_pooling2d_1 (MaxPooling  (0, 32, 32, 128)         0         \n",
      " 2D)                                                             \n",
      "                                                                 \n",
      " dropout_1 (Dropout)         (0, 32, 32, 128)          0         \n",
      "                                                                 \n",
      " conv2d_2 (Conv2D)           (0, 32, 32, 256)          295168    \n",
      "                                                                 \n",
      " max_pooling2d_2 (MaxPooling  (0, 16, 16, 256)         0         \n",
      " 2D)                                                             \n",
      "                                                                 \n",
      " dropout_2 (Dropout)         (0, 16, 16, 256)          0         \n",
      "                                                                 \n",
      " flatten (Flatten)           (0, 65536)                0         \n",
      "                                                                 \n",
      " dense (Dense)               (0, 512)                  33554944  \n",
      "                                                                 \n",
      " dropout_3 (Dropout)         (0, 512)                  0         \n",
      "                                                                 \n",
      " dense_1 (Dense)             (0, 8)                    4104      \n",
      "                                                                 \n",
      "=================================================================\n",
      "Total params: 33,929,864\n",
      "Trainable params: 33,929,864\n",
      "Non-trainable params: 0\n",
      "_________________________________________________________________\n",
      "Epoch 1/75\n"
     ]
    },
    {
     "name": "stderr",
     "output_type": "stream",
     "text": [
      "2023-03-10 18:48:25.033071: W tensorflow/tsl/framework/cpu_allocator_impl.cc:82] Allocation of 536870912 exceeds 10% of free system memory.\n",
      "2023-03-10 18:48:27.263890: W tensorflow/tsl/framework/cpu_allocator_impl.cc:82] Allocation of 536870912 exceeds 10% of free system memory.\n"
     ]
    },
    {
     "name": "stdout",
     "output_type": "stream",
     "text": [
      "\r",
      "1/6 [====>.........................] - ETA: 20s - loss: 2.0765 - accuracy: 0.1094"
     ]
    },
    {
     "name": "stderr",
     "output_type": "stream",
     "text": [
      "2023-03-10 18:48:27.795052: W tensorflow/tsl/framework/cpu_allocator_impl.cc:82] Allocation of 536870912 exceeds 10% of free system memory.\n",
      "2023-03-10 18:48:29.996845: W tensorflow/tsl/framework/cpu_allocator_impl.cc:82] Allocation of 536870912 exceeds 10% of free system memory.\n"
     ]
    },
    {
     "name": "stdout",
     "output_type": "stream",
     "text": [
      "\b\b\b\b\b\b\b\b\b\b\b\b\b\b\b\b\b\b\b\b\b\b\b\b\b\b\b\b\b\b\b\b\b\b\b\b\b\b\b\b\b\b\b\b\b\b\b\b\b\b\b\b\b\b\b\b\b\b\b\b\b\b\b\b\b\b\b\b\b\b\b\b\b\b\b\b\b\b\b\b\b\r",
      "2/6 [=========>....................] - ETA: 10s - loss: 4.7666 - accuracy: 0.0938"
     ]
    },
    {
     "name": "stderr",
     "output_type": "stream",
     "text": [
      "2023-03-10 18:48:30.498542: W tensorflow/tsl/framework/cpu_allocator_impl.cc:82] Allocation of 415236096 exceeds 10% of free system memory.\n"
     ]
    },
    {
     "name": "stdout",
     "output_type": "stream",
     "text": [
      "6/6 [==============================] - ETA: 0s - loss: 3.3810 - accuracy: 0.1191\n",
      "Epoch 1: saving model to model_weights_home/cp-0001.ckpt\n",
      "6/6 [==============================] - 25s 4s/step - loss: 3.3810 - accuracy: 0.1191 - val_loss: 2.0795 - val_accuracy: 0.1286\n",
      "Epoch 2/75\n",
      "6/6 [==============================] - ETA: 0s - loss: 2.0786 - accuracy: 0.1664\n",
      "Epoch 2: saving model to model_weights_home/cp-0002.ckpt\n",
      "6/6 [==============================] - 24s 4s/step - loss: 2.0786 - accuracy: 0.1664 - val_loss: 2.0790 - val_accuracy: 0.1123\n",
      "Epoch 3/75\n",
      "6/6 [==============================] - ETA: 0s - loss: 2.0663 - accuracy: 0.1664\n",
      "Epoch 3: saving model to model_weights_home/cp-0003.ckpt\n",
      "6/6 [==============================] - 25s 4s/step - loss: 2.0663 - accuracy: 0.1664 - val_loss: 2.0505 - val_accuracy: 0.1516\n",
      "Epoch 4/75\n",
      "6/6 [==============================] - ETA: 0s - loss: 2.0537 - accuracy: 0.1705\n",
      "Epoch 4: saving model to model_weights_home/cp-0004.ckpt\n",
      "6/6 [==============================] - 24s 4s/step - loss: 2.0537 - accuracy: 0.1705 - val_loss: 2.0686 - val_accuracy: 0.1272\n",
      "Epoch 5/75\n",
      "6/6 [==============================] - ETA: 0s - loss: 2.0353 - accuracy: 0.2179\n",
      "Epoch 5: saving model to model_weights_home/cp-0005.ckpt\n",
      "6/6 [==============================] - 25s 4s/step - loss: 2.0353 - accuracy: 0.2179 - val_loss: 2.0333 - val_accuracy: 0.2124\n",
      "Epoch 6/75\n",
      "6/6 [==============================] - ETA: 0s - loss: 2.0004 - accuracy: 0.2070\n",
      "Epoch 6: saving model to model_weights_home/cp-0006.ckpt\n",
      "6/6 [==============================] - 25s 4s/step - loss: 2.0004 - accuracy: 0.2070 - val_loss: 1.9834 - val_accuracy: 0.1949\n",
      "Epoch 7/75\n",
      "6/6 [==============================] - ETA: 0s - loss: 1.9083 - accuracy: 0.2206\n",
      "Epoch 7: saving model to model_weights_home/cp-0007.ckpt\n",
      "6/6 [==============================] - 25s 4s/step - loss: 1.9083 - accuracy: 0.2206 - val_loss: 1.8877 - val_accuracy: 0.2314\n",
      "Epoch 8/75\n",
      "6/6 [==============================] - ETA: 0s - loss: 1.8674 - accuracy: 0.2409\n",
      "Epoch 8: saving model to model_weights_home/cp-0008.ckpt\n",
      "6/6 [==============================] - 24s 4s/step - loss: 1.8674 - accuracy: 0.2409 - val_loss: 1.9034 - val_accuracy: 0.2124\n",
      "Epoch 9/75\n",
      "6/6 [==============================] - ETA: 0s - loss: 1.8540 - accuracy: 0.2612\n",
      "Epoch 9: saving model to model_weights_home/cp-0009.ckpt\n",
      "6/6 [==============================] - 24s 4s/step - loss: 1.8540 - accuracy: 0.2612 - val_loss: 1.8975 - val_accuracy: 0.2788\n",
      "Epoch 10/75\n",
      "6/6 [==============================] - ETA: 0s - loss: 1.7931 - accuracy: 0.2869\n",
      "Epoch 10: saving model to model_weights_home/cp-0010.ckpt\n",
      "6/6 [==============================] - 23s 4s/step - loss: 1.7931 - accuracy: 0.2869 - val_loss: 1.8526 - val_accuracy: 0.2733\n",
      "Epoch 11/75\n",
      "6/6 [==============================] - ETA: 0s - loss: 1.7702 - accuracy: 0.3099\n",
      "Epoch 11: saving model to model_weights_home/cp-0011.ckpt\n",
      "6/6 [==============================] - 24s 4s/step - loss: 1.7702 - accuracy: 0.3099 - val_loss: 1.8283 - val_accuracy: 0.3045\n",
      "Epoch 12/75\n",
      "6/6 [==============================] - ETA: 0s - loss: 1.6587 - accuracy: 0.3545\n",
      "Epoch 12: saving model to model_weights_home/cp-0012.ckpt\n",
      "6/6 [==============================] - 24s 4s/step - loss: 1.6587 - accuracy: 0.3545 - val_loss: 1.7743 - val_accuracy: 0.3207\n",
      "Epoch 13/75\n",
      "6/6 [==============================] - ETA: 0s - loss: 1.6013 - accuracy: 0.3924\n",
      "Epoch 13: saving model to model_weights_home/cp-0013.ckpt\n",
      "6/6 [==============================] - 25s 4s/step - loss: 1.6013 - accuracy: 0.3924 - val_loss: 1.7416 - val_accuracy: 0.3424\n",
      "Epoch 14/75\n",
      "6/6 [==============================] - ETA: 0s - loss: 1.5764 - accuracy: 0.3965\n",
      "Epoch 14: saving model to model_weights_home/cp-0014.ckpt\n",
      "6/6 [==============================] - 25s 4s/step - loss: 1.5764 - accuracy: 0.3965 - val_loss: 1.7266 - val_accuracy: 0.4208\n",
      "Epoch 15/75\n",
      "6/6 [==============================] - ETA: 0s - loss: 1.4488 - accuracy: 0.4520\n",
      "Epoch 15: saving model to model_weights_home/cp-0015.ckpt\n",
      "6/6 [==============================] - 26s 5s/step - loss: 1.4488 - accuracy: 0.4520 - val_loss: 1.6792 - val_accuracy: 0.3992\n",
      "Epoch 16/75\n",
      "6/6 [==============================] - ETA: 0s - loss: 1.3889 - accuracy: 0.4926\n",
      "Epoch 16: saving model to model_weights_home/cp-0016.ckpt\n",
      "6/6 [==============================] - 24s 4s/step - loss: 1.3889 - accuracy: 0.4926 - val_loss: 1.6478 - val_accuracy: 0.4560\n",
      "Epoch 17/75\n",
      "6/6 [==============================] - ETA: 0s - loss: 1.2895 - accuracy: 0.5507\n",
      "Epoch 17: saving model to model_weights_home/cp-0017.ckpt\n",
      "6/6 [==============================] - 25s 5s/step - loss: 1.2895 - accuracy: 0.5507 - val_loss: 1.6669 - val_accuracy: 0.4547\n",
      "Epoch 18/75\n",
      "6/6 [==============================] - ETA: 0s - loss: 1.2438 - accuracy: 0.5467\n",
      "Epoch 18: saving model to model_weights_home/cp-0018.ckpt\n",
      "6/6 [==============================] - 25s 4s/step - loss: 1.2438 - accuracy: 0.5467 - val_loss: 1.6597 - val_accuracy: 0.4790\n",
      "Epoch 19/75\n",
      "6/6 [==============================] - ETA: 0s - loss: 1.1312 - accuracy: 0.6130\n",
      "Epoch 19: saving model to model_weights_home/cp-0019.ckpt\n",
      "6/6 [==============================] - 25s 4s/step - loss: 1.1312 - accuracy: 0.6130 - val_loss: 1.6820 - val_accuracy: 0.4560\n",
      "Epoch 20/75\n",
      "6/6 [==============================] - ETA: 0s - loss: 1.0221 - accuracy: 0.6360\n",
      "Epoch 20: saving model to model_weights_home/cp-0020.ckpt\n",
      "6/6 [==============================] - 24s 4s/step - loss: 1.0221 - accuracy: 0.6360 - val_loss: 1.7246 - val_accuracy: 0.4520\n",
      "Epoch 21/75\n",
      "6/6 [==============================] - ETA: 0s - loss: 1.0699 - accuracy: 0.6292\n",
      "Epoch 21: saving model to model_weights_home/cp-0021.ckpt\n",
      "6/6 [==============================] - 24s 4s/step - loss: 1.0699 - accuracy: 0.6292 - val_loss: 1.8006 - val_accuracy: 0.4222\n",
      "Epoch 22/75\n",
      "6/6 [==============================] - ETA: 0s - loss: 1.0800 - accuracy: 0.6346\n",
      "Epoch 22: saving model to model_weights_home/cp-0022.ckpt\n",
      "6/6 [==============================] - 23s 4s/step - loss: 1.0800 - accuracy: 0.6346 - val_loss: 1.7438 - val_accuracy: 0.4763\n",
      "Epoch 23/75\n",
      "6/6 [==============================] - ETA: 0s - loss: 0.9586 - accuracy: 0.6955\n",
      "Epoch 23: saving model to model_weights_home/cp-0023.ckpt\n",
      "6/6 [==============================] - 23s 4s/step - loss: 0.9586 - accuracy: 0.6955 - val_loss: 1.8288 - val_accuracy: 0.5047\n",
      "Epoch 24/75\n",
      "5/6 [========================>.....] - ETA: 2s - loss: 0.8504 - accuracy: 0.7185"
     ]
    }
   ],
   "source": [
    "BatchSize       = batchsize\n",
    "Nepochs         = 75\n",
    "# set resize in previous cell\n",
    "\n",
    "zpix = train_ds[0][0][0].shape[2] #colour\n",
    "\n",
    "input_shape=(0,resize, resize, zpix)\n",
    "\n",
    "model = keras.models.Sequential()\n",
    "\n",
    "model.add(keras.layers.Lambda(lambda image:tf.image.resize(image,[resize,resize])))\n",
    "\n",
    "model.add(keras.layers.Conv2D(64, (3, 3), padding ='same',activation='relu', input_shape=(resize, resize, zpix)))\n",
    "model.add(keras.layers.MaxPooling2D((2, 2)))\n",
    "model.add(keras.layers.Dropout(0.25))\n",
    "\n",
    "model.add(keras.layers.Conv2D(128, (3, 3), padding='same',activation='relu'))\n",
    "model.add(keras.layers.MaxPooling2D((2, 2)))\n",
    "model.add(keras.layers.Dropout(0.35))\n",
    "\n",
    "model.add(keras.layers.Conv2D(256, (3, 3), padding='same',activation='relu'))\n",
    "model.add(keras.layers.MaxPooling2D((2, 2)))\n",
    "model.add(keras.layers.Dropout(0.45))\n",
    "\n",
    "model.add(keras.layers.Flatten())\n",
    "\n",
    "model.add(keras.layers.Dense(512, activation='relu'))\n",
    "model.add(keras.layers.Dropout(0.55))\n",
    "model.add(keras.layers.Dense(8, activation='softmax'))\n",
    "\n",
    "print(\"--------------------------------------------------------------------------------------------------------------\")\n",
    "print(\"\\033[92mWill train a convolutional neural network on the MNIST data\\033[0m\")\n",
    "print(\"--------------------------------------------------------------------------------------------------------------\\n\\n\")\n",
    "print(\"Input data MNIST\")\n",
    "print(\"Leaky relu parameter =  0.1\")\n",
    "print(\"BatchSize            = \", batchsize)\n",
    "print(\"Nepochs              = \", Nepochs, \"\\n\")\n",
    "\n",
    "loss_fn = keras.losses.CategoricalCrossentropy()\n",
    "\n",
    "model.compile(optimizer='adam', loss=loss_fn, metrics=['accuracy'])\n",
    "\n",
    "tensorboard_callback = tf.keras.callbacks.TensorBoard(log_dir='./logs')\n",
    "checkpoint_path = checkpoint1_path\n",
    "checkpoint_dir  = os.path.dirname(checkpoint_path)\n",
    "cp_callback = keras.callbacks.ModelCheckpoint(\n",
    "    filepath=checkpoint_path,\n",
    "    verbose=1,\n",
    "    save_weights_only=True)\n",
    "\n",
    "model.build(input_shape) # in week 4 CNN.ipynb Abbey didn't have model.build but her summary works, how?\n",
    "model.summary()\n",
    "\n",
    "history  = model.fit(train_ds, validation_data=val_ds,batch_size=batchsize,epochs=Nepochs,callbacks=[tensorboard_callback,cp_callback])"
   ]
  },
  {
   "cell_type": "code",
   "execution_count": null,
   "id": "2bf0eda5",
   "metadata": {},
   "outputs": [],
   "source": [
    "latest = tf.train.latest_checkpoint(checkpoint_dir)\n",
    "model.load_weights(latest) \n",
    "loss, acc = model.evaluate(test_ds)"
   ]
  },
  {
   "cell_type": "code",
   "execution_count": null,
   "id": "34b7aaf8",
   "metadata": {},
   "outputs": [],
   "source": [
    "# Print out the history keys expected are:\n",
    "#    loss        The loss function evaluated at each epoch for the training set\n",
    "#    acc         The accuracy evaluated at each epoch for the training set\n",
    "#    val_loss    The loss evaluated at each epoch for the validation set\n",
    "#    val_acc     The accuracy evaluated at each epoch for the validation set\n",
    "# The val_* entries exist only if there is a validation_split specified\n",
    "\n",
    "print(\"history keys = \", history.history.keys())\n",
    "\n",
    "print(\"\\n\\033[1mDisplay the evolution of the accuracy as a function of the training epoch\\033[0m\")\n",
    "print(\"  N(Epochs)        = \", Nepochs)\n",
    "\n",
    "print(\"  accuracy (train) = \", history.history['accuracy'])\n",
    "print(\"  accuracy (test)  = \", history.history['val_accuracy'])\n",
    "plt.plot(history.history['accuracy'])\n",
    "plt.plot(history.history['val_accuracy'])\n",
    "plt.grid(alpha=0.5, linestyle='--', color='gray')\n",
    "plt.title('model accuracy')\n",
    "plt.ylabel('accuracy')\n",
    "plt.xlabel('epoch')\n",
    "plt.legend(['train', 'validate'], loc='lower right')"
   ]
  },
  {
   "cell_type": "code",
   "execution_count": null,
   "id": "ea1cddcc",
   "metadata": {},
   "outputs": [],
   "source": [
    "# summarize history for loss\n",
    "print(\"\\n\\033[1mDisplay the evolution of the loss as a function of the training epoch\\033[0m\")\n",
    "print(\"  N(Epochs)        = \", Nepochs)\n",
    "print(\"  loss (train)     = \", history.history['loss'])\n",
    "print(\"  loss (test)      = \", history.history['val_loss'])\n",
    "\n",
    "plt.plot(history.history['loss'])\n",
    "plt.plot(history.history['val_loss'])\n",
    "plt.grid(alpha=0.5, linestyle='--', color='gray')\n",
    "plt.title('model loss')\n",
    "plt.ylabel('loss')\n",
    "plt.xlabel('epoch')\n",
    "plt.legend(['train', 'validate'], loc='upper right')\n",
    "plt.show()"
   ]
  },
  {
   "cell_type": "code",
   "execution_count": null,
   "id": "3a66c2e2",
   "metadata": {},
   "outputs": [],
   "source": [
    "predictions = model.predict(test_ds)"
   ]
  },
  {
   "cell_type": "code",
   "execution_count": null,
   "id": "8ad9a846",
   "metadata": {},
   "outputs": [],
   "source": [
    "import csv\n",
    "\n",
    "# Create an empty dictionary to store the data\n",
    "data_dict = {}\n",
    "\n",
    "with open('landmarks_map-proj-v3_classmap.csv', newline='') as csvfile:\n",
    "    reader = csv.reader(csvfile)\n",
    "    for row in reader:\n",
    "        # Get the number and word values from the current row\n",
    "        num = int(row[0])\n",
    "        word = row[1]\n",
    "        # Add the values to the dictionary\n",
    "        data_dict[num] = word"
   ]
  },
  {
   "cell_type": "code",
   "execution_count": null,
   "id": "351e4d91",
   "metadata": {},
   "outputs": [],
   "source": [
    "fig, axes = plt.subplots(nrows=4, ncols=10, figsize=(25, 12))\n",
    "class_list = [i for i in range(0,8)]\n",
    "\n",
    "rand_list = list(randint(0,1,12))\n",
    "for i in rand_list:\n",
    "    class_list.append(i)\n",
    "count = 0\n",
    "j = 0\n",
    "x,y = 0,1\n",
    "image_count = 0\n",
    "for i in test_ds:\n",
    "    image_count = 0\n",
    "    for k in i[1]:\n",
    "        prediction = predictions[count]\n",
    "        actual = np.argmax(k)\n",
    "        if np.isin(actual,class_list):\n",
    "\n",
    "            axes[x][j].imshow(i[0][image_count])\n",
    "            axes[x][j].set_xticks([])\n",
    "            axes[x][j].set_yticks([])\n",
    "\n",
    "            # Set the x axis label\n",
    "            axes[x][j].set_xlabel(f\"P: {np.argmax(prediction),data_dict[int(np.argmax(prediction))]}\\nA: {actual, data_dict[actual]}\",fontsize=10)\n",
    "\n",
    "            # Add some space between subplots\n",
    "            plt.subplots_adjust(wspace=0.55)\n",
    "            plt.subplots_adjust(hspace=0.05)\n",
    "\n",
    "            # Plot the predicted probabilities as a bar graph\n",
    "            axes[y][j].bar([0,1,2,3,4,5,6,7],prediction)\n",
    "            axes[y][j].bar([0,1,2,3,4,5,6,7],k,alpha=0.5)\n",
    "            axes[y][j].grid(alpha=0.5, linestyle='--', color='gray')\n",
    "            axes[y][j].set_ylim(0,np.max(prediction)*2)\n",
    "            axes[y][j].set_xticks([0,1,2,3,4,5,6,7])\n",
    "            axes[y][j].set_xticklabels([0,1,2,3,4,5,6,7], rotation=90, fontsize=8)\n",
    "\n",
    "            class_list.remove(int(actual))\n",
    "\n",
    "            j += 1\n",
    "    \n",
    "        image_count += 1\n",
    "        count += 1\n",
    "\n",
    "        if len(class_list) == 10:\n",
    "            x,y,j=2,3,0\n",
    "        if class_list == []:\n",
    "            break\n",
    "    if class_list == []:\n",
    "        break"
   ]
  },
  {
   "cell_type": "code",
   "execution_count": null,
   "id": "c7f32028",
   "metadata": {},
   "outputs": [],
   "source": [
    "abs_predictions = np.argmax(predictions,axis=1)\n",
    "test_df['models class'] = abs_predictions\n",
    "test_df.head(20)\n",
    "print(len(abs_predictions))"
   ]
  },
  {
   "cell_type": "code",
   "execution_count": null,
   "id": "eab03901",
   "metadata": {},
   "outputs": [],
   "source": [
    "# for some reason class was a column of strings... took ages to figure that out\n",
    "test_df['class'] = test_df['class'].astype(int)\n",
    "class_list = [i for i in range(0,8)]\n",
    "\n",
    "accuracy_list = []\n",
    "for i in class_list:\n",
    "    \n",
    "    df_0 = test_df.loc[test_df['class'] == i]\n",
    "    num_identical = sum(df_0['class'] == df_0['models class'])\n",
    "    num_rows = len(df_0)\n",
    "    percent_identical = num_identical / num_rows * 100\n",
    "    accuracy_list.append(percent_identical)\n",
    "\n",
    "print(accuracy_list)\n",
    "plt.bar(class_list,accuracy_list)\n",
    "plt.grid(alpha=0.5, linestyle='--', color='gray')\n",
    "plt.xlabel('classes')\n",
    "plt.ylabel('prediction accuracy percentage')"
   ]
  },
  {
   "cell_type": "markdown",
   "id": "11571b6f",
   "metadata": {},
   "source": [
    "### changing to is/is not:[dune]"
   ]
  },
  {
   "cell_type": "code",
   "execution_count": null,
   "id": "9b5257a8",
   "metadata": {},
   "outputs": [],
   "source": [
    "print('image classes')\n",
    "image_classes = np.loadtxt('labels-map-proj-v3.txt',dtype=str,delimiter=' ')\n",
    "\n",
    "print('dataframe')\n",
    "df =pd.DataFrame(image_classes,columns=['filename','class'])\n",
    "\n",
    "print('shuffling')\n",
    "df = shuffle(df)\n",
    "\n",
    "# Replace non-dune class labels with 0 & again with the string values for class. whyyyyyyyyyyy\n",
    "print('reformatting')\n",
    "df['class'] = df['class'].astype(int)\n",
    "df.loc[~df['class'].isin([2, 4]), 'class'] = 0\n",
    "df.loc[df['class'].isin([2, 4]), 'class']  = 1\n",
    "df['class'] = df['class'].astype(str)\n",
    "\n",
    "clist = [0,1]\n",
    "num_class = []\n",
    "for i in clist:\n",
    "    num_class.append(len(df[df['class']==str(i)]))\n",
    "    print(f'length of class: {i}',len(df[df['class']==str(i)]))\n",
    "print('min class count',np.min(num_class))\n",
    "\n",
    "for i in clist:\n",
    "    df_other = df[df['class']==str(i)].sample(n=np.min(num_class), random_state=1)\n",
    "    df = df.drop(df.index[(df[\"class\"] == str(i))])\n",
    "    df = pd.concat([df_other,df])\n",
    "    \n",
    "clist = [0,1]\n",
    "num_class = []\n",
    "for i in clist:\n",
    "    num_class.append(len(df[df['class']==str(i)]))\n",
    "    print(f'length of class: {i}',len(df[df['class']==str(i)]))"
   ]
  },
  {
   "cell_type": "code",
   "execution_count": null,
   "id": "53de3d6e",
   "metadata": {},
   "outputs": [],
   "source": [
    "print('traintestsplit')\n",
    "train_df,test_df = train_test_split(df,test_size=0.2)\n",
    "train_df,val_df = train_test_split(train_df,test_size=0.5)\n",
    "\n",
    "print('image generator')\n",
    "idg = ImageDataGenerator(rescale=1./255.) # normalize\n",
    "batchsize=128\n",
    "\n",
    "print('batching')\n",
    "train_ds = idg.flow_from_dataframe(dataframe=train_df, directory='map-proj-v3',batch_size=batchsize)\n",
    "test_ds  = idg.flow_from_dataframe(dataframe= test_df, directory='map-proj-v3',batch_size=batchsize)\n",
    "val_ds =   idg.flow_from_dataframe(dataframe=  val_df, directory='map-proj-v3',batch_size=batchsize)"
   ]
  },
  {
   "cell_type": "code",
   "execution_count": null,
   "id": "c663e568",
   "metadata": {},
   "outputs": [],
   "source": [
    "BatchSize       = batchsize\n",
    "Nepochs         = 10\n",
    "resize = 128\n",
    "DropoutValue    = 0.6 # currently unused\n",
    "# set resize in previous cell\n",
    "\n",
    "zpix = train_ds[0][0][0].shape[2] #colour\n",
    "\n",
    "input_shape=(0,resize, resize, zpix)\n",
    "\n",
    "model = keras.models.Sequential()\n",
    "\n",
    "model.add(keras.layers.Lambda(lambda image:tf.image.resize(image,[resize,resize])))\n",
    "\n",
    "model.add(keras.layers.Conv2D(16, (3, 3), padding ='same',activation='relu', input_shape=(resize, resize, zpix)))\n",
    "model.add(keras.layers.MaxPooling2D((2, 2)))\n",
    "model.add(keras.layers.Dropout(0.10))\n",
    "\n",
    "model.add(keras.layers.Conv2D(32, (3, 3), padding='same',activation='relu'))\n",
    "model.add(keras.layers.MaxPooling2D((2, 2)))\n",
    "model.add(keras.layers.Dropout(0.15))\n",
    "\n",
    "model.add(keras.layers.Conv2D(64, (3, 3), padding='same',activation='relu'))\n",
    "model.add(keras.layers.MaxPooling2D((2, 2)))\n",
    "model.add(keras.layers.Dropout(0.25))\n",
    "\n",
    "model.add(keras.layers.Flatten())\n",
    "\n",
    "model.add(keras.layers.Dense(128, activation='relu'))\n",
    "model.add(keras.layers.Dropout(0.4))\n",
    "model.add(keras.layers.Dense(2, activation='sigmoid'))\n",
    "\n",
    "print(\"--------------------------------------------------------------------------------------------------------------\")\n",
    "print(\"\\033[92mWill train a convolutional neural network on the MNIST data\\033[0m\")\n",
    "print(\"--------------------------------------------------------------------------------------------------------------\\n\\n\")\n",
    "print(\"Input data MNIST\")\n",
    "print(\"Dropout values       = \", DropoutValue)\n",
    "print(\"Leaky relu parameter =  0.1\")\n",
    "print(\"BatchSize            = \", batchsize)\n",
    "print(\"Nepochs              = \", Nepochs, \"\\n\")\n",
    "\n",
    "\n",
    "model.compile(optimizer='adam', loss='binary_crossentropy', metrics=['accuracy'])\n",
    "\n",
    "tensorboard_callback = tf.keras.callbacks.TensorBoard(log_dir='./logs')\n",
    "checkpoint_path = checkpoint2_path\n",
    "checkpoint_dir  = os.path.dirname(checkpoint_path)\n",
    "cp_callback = keras.callbacks.ModelCheckpoint(\n",
    "    filepath=checkpoint_path,\n",
    "    verbose=1,\n",
    "    save_weights_only=True)\n",
    "\n",
    "model.build(input_shape) \n",
    "model.summary()\n",
    "\n",
    "history  = model.fit(train_ds, validation_data=val_ds,batch_size=batchsize,epochs=Nepochs,callbacks=[tensorboard_callback,cp_callback])"
   ]
  },
  {
   "cell_type": "code",
   "execution_count": null,
   "id": "6c53cd34",
   "metadata": {},
   "outputs": [],
   "source": [
    "# Print out the history keys expected are:\n",
    "#    loss        The loss function evaluated at each epoch for the training set\n",
    "#    acc         The accuracy evaluated at each epoch for the training set\n",
    "#    val_loss    The loss evaluated at each epoch for the validation set\n",
    "#    val_acc     The accuracy evaluated at each epoch for the validation set\n",
    "# The val_* entries exist only if there is a validation_split specified\n",
    "\n",
    "print(\"history keys = \", history.history.keys())\n",
    "\n",
    "print(\"\\n\\033[1mDisplay the evolution of the accuracy as a function of the training epoch\\033[0m\")\n",
    "print(\"  N(Epochs)        = \", Nepochs)\n",
    "\n",
    "print(\"  accuracy (train) = \", history.history['accuracy'])\n",
    "print(\"  accuracy (test)  = \", history.history['val_accuracy'])\n",
    "plt.plot(history.history['accuracy'])\n",
    "plt.plot(history.history['val_accuracy'])\n",
    "plt.grid(alpha=0.5, linestyle='--', color='gray')\n",
    "plt.title('model accuracy')\n",
    "plt.ylabel('accuracy')\n",
    "plt.xlabel('epoch')\n",
    "plt.legend(['train', 'validate'], loc='lower right')"
   ]
  },
  {
   "cell_type": "code",
   "execution_count": null,
   "id": "15515d7b",
   "metadata": {},
   "outputs": [],
   "source": [
    "print(\"\\n\\033[1mDisplay the evolution of the loss as a function of the training epoch\\033[0m\")\n",
    "print(\"  N(Epochs)        = \", Nepochs)\n",
    "print(\"  loss (train)     = \", history.history['loss'])\n",
    "#print(\"  loss (test)      = \", history.history['val_loss'])\n",
    "\n",
    "# summarize history for loss\n",
    "plt.plot(history.history['loss'])\n",
    "plt.plot(history.history['val_loss'])\n",
    "plt.grid(alpha=0.5, linestyle='--', color='gray')\n",
    "plt.title('model loss')\n",
    "plt.ylabel('loss')\n",
    "plt.xlabel('epoch')\n",
    "plt.legend(['train', 'validate'], loc='upper right')\n",
    "plt.show()"
   ]
  },
  {
   "cell_type": "code",
   "execution_count": null,
   "id": "c24561c9",
   "metadata": {},
   "outputs": [],
   "source": [
    "old_predictions = model.predict(test_ds)"
   ]
  },
  {
   "cell_type": "code",
   "execution_count": null,
   "id": "d44ab554",
   "metadata": {},
   "outputs": [],
   "source": [
    "predictions = []\n",
    "for i in old_predictions:\n",
    "    predictions.append(i[1])\n",
    "print(predictions)"
   ]
  },
  {
   "cell_type": "code",
   "execution_count": null,
   "id": "420ee628",
   "metadata": {},
   "outputs": [],
   "source": [
    "fpr, tpr, _ = roc_curve(test_ds.classes, predictions)\n",
    "roc_auc = auc(fpr, tpr)\n",
    "plt.figure()\n",
    "lw = 2\n",
    "plt.plot(fpr, tpr, color='darkorange',lw=lw, label='ROC curve (area = %0.7f)' % roc_auc)\n",
    "plt.plot([0, 1], [0, 1], color='navy', lw=lw, linestyle='--')\n",
    "plt.grid(alpha=0.5, linestyle='--', color='gray')\n",
    "plt.xlim([0.0, 1.0])\n",
    "plt.ylim([0.0, 1.05])\n",
    "plt.xlabel('False Positive Rate')\n",
    "plt.ylabel('True Positive Rate')\n",
    "plt.title('Receiver operating characteristic example')\n",
    "plt.legend(loc=\"lower right\")\n",
    "plt.show()"
   ]
  }
 ],
 "metadata": {
  "kernelspec": {
   "display_name": "Python 3 (ipykernel)",
   "language": "python",
   "name": "python3"
  },
  "language_info": {
   "codemirror_mode": {
    "name": "ipython",
    "version": 3
   },
   "file_extension": ".py",
   "mimetype": "text/x-python",
   "name": "python",
   "nbconvert_exporter": "python",
   "pygments_lexer": "ipython3",
   "version": "3.9.12"
  },
  "vscode": {
   "interpreter": {
    "hash": "88f0213f5151c3f1174878c67c17c0db4261f50e98c5851833d1690970932830"
   }
  }
 },
 "nbformat": 4,
 "nbformat_minor": 5
}
